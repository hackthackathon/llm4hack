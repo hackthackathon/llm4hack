{
 "cells": [
  {
   "cell_type": "code",
   "execution_count": 82,
   "metadata": {},
   "outputs": [],
   "source": [
    "import os\n",
    "import shutil\n",
    "import markdown"
   ]
  },
  {
   "cell_type": "code",
   "execution_count": 83,
   "metadata": {},
   "outputs": [],
   "source": [
    "markdown_dir = \"../llm4hack_md\"\n",
    "html_dir = \"../llm4hack_html\""
   ]
  },
  {
   "cell_type": "code",
   "execution_count": 84,
   "metadata": {},
   "outputs": [],
   "source": [
    "# copy images directory in markdown to html folder\n",
    "\n",
    "src = f\"{markdown_dir}/images/\"\n",
    "dest = f\"{html_dir}/images/\"\n",
    "\n",
    "destination = shutil.copytree(src, dest, dirs_exist_ok=True)"
   ]
  },
  {
   "cell_type": "code",
   "execution_count": 85,
   "metadata": {},
   "outputs": [],
   "source": [
    "# Table of contents (format: {\"Page Name\": \"filename.md\"})\n",
    "\n",
    "toc = {\n",
    "    \"Home\": \"index.md\",\n",
    "    \"LLMs for hackathons\": \"llms_for_hackathons.md\",\n",
    "    \"For organizers\": \"organizers.md\",\n",
    "    \"For participants\": \"participants.md\",\n",
    "    \"Uses of LLMs in hackathons\": \"uses_of_llms_in_hackathons.md\",\n",
    "    \"Ethics overview\": \"ethical_considerations_overview.md\",\n",
    "    \"Ethics_questions_of_LLM_use\": \"questions_limitations_use_llms.md\",\n",
    "    \"Ethics guidance\": \"guidance_ethics_of_llm_use.md\",\n",
    "}"
   ]
  },
  {
   "cell_type": "code",
   "execution_count": 86,
   "metadata": {},
   "outputs": [],
   "source": [
    "# Navigation HTML template\n",
    "nav_template = \"\"\"\n",
    "<nav id=\"llm4hack_nav\">\n",
    "    <ul>\n",
    "        {links}\n",
    "    </ul>\n",
    "</nav>\n",
    "\"\"\""
   ]
  },
  {
   "cell_type": "code",
   "execution_count": 87,
   "metadata": {},
   "outputs": [],
   "source": [
    "# HTML page template\n",
    "html_template = \"\"\"\n",
    "<!DOCTYPE html>\n",
    "<html lang=\"en\">\n",
    "<head>\n",
    "    <meta charset=\"UTF-8\">\n",
    "    <meta name=\"viewport\" content=\"width=device-width, initial-scale=1.0\">\n",
    "    <title>LLMs in Hackathons</title>\n",
    "    <link rel=\"preconnect\" href=\"https://fonts.googleapis.com\">\n",
    "    <link rel=\"preconnect\" href=\"https://fonts.gstatic.com\" crossorigin>\n",
    "    <link href=\"https://fonts.googleapis.com/css2?family=Montserrat:ital,wght@0,100..900;1,100..900&family=Raleway:ital@0;1&family=Roboto:ital,wght@0,100;0,300;0,400;0,500;0,700;0,900;1,100;1,300;1,400;1,500;1,700;1,900&display=swap\" rel=\"stylesheet\">\n",
    "    <link rel=\"stylesheet\" href=\"llm4hack_styles.css\" >\n",
    "</head>\n",
    "<body>\n",
    "    <div id=\"lmm4hack_page\">\n",
    "     {nav}\n",
    "      <div id=\"llm4hack_content\">\n",
    "          {content}\n",
    "      </div>\n",
    "    </div>\n",
    "</body>\n",
    "</html>\n",
    "\"\"\""
   ]
  },
  {
   "cell_type": "code",
   "execution_count": 88,
   "metadata": {},
   "outputs": [],
   "source": [
    "# Generate navigation links\n",
    "nav_links = \"\\n\".join(\n",
    "    f'<li><a href=\"{os.path.splitext(filename)[0]}.html\">{name}</a></li>'\n",
    "    for name, filename in toc.items()\n",
    ")\n",
    "nav_html = nav_template.format(links=nav_links)"
   ]
  },
  {
   "cell_type": "code",
   "execution_count": 89,
   "metadata": {},
   "outputs": [
    {
     "name": "stdout",
     "output_type": "stream",
     "text": [
      "Generated: ../llm4hack_html/index.html\n",
      "Generated: ../llm4hack_html/llms_for_hackathons.html\n",
      "Generated: ../llm4hack_html/organizers.html\n",
      "Generated: ../llm4hack_html/participants.html\n",
      "Generated: ../llm4hack_html/uses_of_llms_in_hackathons.html\n",
      "Generated: ../llm4hack_html/ethical_considerations_overview.html\n",
      "Generated: ../llm4hack_html/questions_limitations_use_llms.html\n",
      "Generated: ../llm4hack_html/guidance_ethics_of_llm_use.html\n"
     ]
    }
   ],
   "source": [
    "# Process each markdown file\n",
    "for page_name, md_file in toc.items():\n",
    "    md_path = os.path.join(markdown_dir, md_file)\n",
    "    if not os.path.exists(md_path):\n",
    "        print(f\"Markdown file '{md_file}' not found. Skipping...\")\n",
    "        continue\n",
    "\n",
    "    # Read and convert markdown to HTML\n",
    "    with open(md_path, \"r\", encoding=\"utf-8\") as f:\n",
    "        md_content = f.read()\n",
    "    html_content = markdown.markdown(md_content)\n",
    "\n",
    "    # Create final HTML file\n",
    "    html_page = html_template.format(\n",
    "        title=page_name, nav=nav_html, content=html_content\n",
    "    )\n",
    "\n",
    "    # Save the HTML file\n",
    "    html_filename = os.path.splitext(md_file)[0] + \".html\"\n",
    "    html_path = os.path.join(html_dir, html_filename)\n",
    "    with open(html_path, \"w\", encoding=\"utf-8\") as f:\n",
    "        f.write(html_page)\n",
    "\n",
    "    print(f\"Generated: {html_path}\")"
   ]
  }
 ],
 "metadata": {
  "kernelspec": {
   "display_name": ".venv",
   "language": "python",
   "name": "python3"
  },
  "language_info": {
   "codemirror_mode": {
    "name": "ipython",
    "version": 3
   },
   "file_extension": ".py",
   "mimetype": "text/x-python",
   "name": "python",
   "nbconvert_exporter": "python",
   "pygments_lexer": "ipython3",
   "version": "3.13.0"
  }
 },
 "nbformat": 4,
 "nbformat_minor": 2
}
